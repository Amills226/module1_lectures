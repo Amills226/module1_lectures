{
  "nbformat": 4,
  "nbformat_minor": 0,
  "metadata": {
    "anaconda-cloud": {},
    "kernelspec": {
      "display_name": "Python 3",
      "language": "python",
      "name": "python3"
    },
    "language_info": {
      "codemirror_mode": {
        "name": "ipython",
        "version": 3
      },
      "file_extension": ".py",
      "mimetype": "text/x-python",
      "name": "python",
      "nbconvert_exporter": "python",
      "pygments_lexer": "ipython3",
      "version": "3.7.2"
    },
    "nbpresent": {
      "slides": {
        "d8cfa8b7-18e5-4d2f-8e92-8164c8bfad3b": {
          "id": "d8cfa8b7-18e5-4d2f-8e92-8164c8bfad3b",
          "prev": null,
          "regions": {
            "81231d63-4899-45f2-b382-fabf4f762896": {
              "attrs": {
                "height": 0.8,
                "width": 0.45,
                "x": 0.5,
                "y": 0.1
              },
              "id": "81231d63-4899-45f2-b382-fabf4f762896"
            },
            "b40d103d-8d7f-44de-8fca-19b2f9861cdd": {
              "attrs": {
                "height": 0.8,
                "width": 0.45,
                "x": 0.05,
                "y": 0.1
              },
              "id": "b40d103d-8d7f-44de-8fca-19b2f9861cdd"
            }
          }
        }
      },
      "themes": {}
    },
    "colab": {
      "name": "1_4_lambda_expressions_and_functions.ipynb",
      "provenance": [],
      "include_colab_link": true
    }
  },
  "cells": [
    {
      "cell_type": "markdown",
      "metadata": {
        "id": "view-in-github",
        "colab_type": "text"
      },
      "source": [
        "<a href=\"https://colab.research.google.com/github/Amills226/module1_lectures/blob/master/1_4_lambda_expressions_and_functions.ipynb\" target=\"_parent\"><img src=\"https://colab.research.google.com/assets/colab-badge.svg\" alt=\"Open In Colab\"/></a>"
      ]
    },
    {
      "cell_type": "markdown",
      "metadata": {
        "nbpresent": {
          "id": "72b0ede6-af2b-41e9-81af-16c345e658d3"
        },
        "id": "_efdmO4eZyYU",
        "colab_type": "text"
      },
      "source": [
        "# Lambda Expressions and Functions\n",
        "\n",
        "## Objectives\n",
        "\n",
        "1. Use variables to make expressions more readable\n",
        "2. Introduce the `lambda` expression for reusing expressions\n",
        "3. Writing more complicated functions with the `def` statement"
      ]
    },
    {
      "cell_type": "markdown",
      "metadata": {
        "nbpresent": {
          "id": "1a11188f-9efb-4909-b63f-fa5d6ed1628a"
        },
        "id": "o8vzG0q8ZyYX",
        "colab_type": "text"
      },
      "source": [
        "## The `lambda` expression\n",
        "\n",
        "* Allows reuse of expressions\n",
        "* Variables become **Parameters**\n",
        "    * insert values later"
      ]
    },
    {
      "cell_type": "markdown",
      "metadata": {
        "nbpresent": {
          "id": "a59a0a0b-3a93-41e6-b1bd-b9c856d68106"
        },
        "id": "RxPsuZgRZyYZ",
        "colab_type": "text"
      },
      "source": [
        "## The `lambda` syntax\n",
        "\n",
        "<img src=\"https://github.com/Amills226/module1_lectures/blob/master/img/lambda_syntax.png?raw=1\"/>"
      ]
    },
    {
      "cell_type": "code",
      "metadata": {
        "nbpresent": {
          "id": "12154f73-b113-47f0-a659-899c3c2e9cda"
        },
        "id": "nkTVneqmZyYa",
        "colab_type": "code",
        "colab": {}
      },
      "source": [
        "f = lambda x: x**2"
      ],
      "execution_count": 1,
      "outputs": []
    },
    {
      "cell_type": "code",
      "metadata": {
        "nbpresent": {
          "id": "12154f73-b113-47f0-a659-899c3c2e9cda"
        },
        "id": "I2Q5ZAvtZyYg",
        "colab_type": "code",
        "colab": {
          "base_uri": "https://localhost:8080/",
          "height": 34
        },
        "outputId": "463afe4d-7c5c-4e05-ada8-639f0570e106"
      },
      "source": [
        "f = lambda x: x**2\n",
        "f(2)"
      ],
      "execution_count": 2,
      "outputs": [
        {
          "output_type": "execute_result",
          "data": {
            "text/plain": [
              "4"
            ]
          },
          "metadata": {
            "tags": []
          },
          "execution_count": 2
        }
      ]
    },
    {
      "cell_type": "markdown",
      "metadata": {
        "id": "MwOIgk-VZyYr",
        "colab_type": "text"
      },
      "source": [
        "## Evaluating `lambda` expressions\n",
        "\n",
        "<img src=\"https://github.com/Amills226/module1_lectures/blob/master/img/lambda_evaluation.png?raw=1\" width=400/>"
      ]
    },
    {
      "cell_type": "code",
      "metadata": {
        "id": "kQAjy_lxatF5",
        "colab_type": "code",
        "colab": {
          "base_uri": "https://localhost:8080/",
          "height": 34
        },
        "outputId": "941589fd-2655-42af-833b-8d36abbaee78"
      },
      "source": [
        "f = lambda x: x**2\n",
        "f(2)"
      ],
      "execution_count": 4,
      "outputs": [
        {
          "output_type": "execute_result",
          "data": {
            "text/plain": [
              "4"
            ]
          },
          "metadata": {
            "tags": []
          },
          "execution_count": 4
        }
      ]
    },
    {
      "cell_type": "code",
      "metadata": {
        "id": "QHhDhR0ua7PC",
        "colab_type": "code",
        "colab": {
          "base_uri": "https://localhost:8080/",
          "height": 34
        },
        "outputId": "bf77e53e-321a-4299-ee28-482a86b46228"
      },
      "source": [
        "f = lambda x: x**2\n",
        "(2**2)"
      ],
      "execution_count": 5,
      "outputs": [
        {
          "output_type": "execute_result",
          "data": {
            "text/plain": [
              "4"
            ]
          },
          "metadata": {
            "tags": []
          },
          "execution_count": 5
        }
      ]
    },
    {
      "cell_type": "markdown",
      "metadata": {
        "nbpresent": {
          "id": "a59a0a0b-3a93-41e6-b1bd-b9c856d68106"
        },
        "id": "3K2IxWIxZyYs",
        "colab_type": "text"
      },
      "source": [
        "## The `lambda` expression\n",
        "\n",
        "* The *type* of a `lambda` is the type `function`\n",
        "* The *value* of a `lambda` expression is actual function\n",
        "* Remember\n",
        "    * `lambda` MAKES the function\n",
        "    * Use function call to execute the function"
      ]
    },
    {
      "cell_type": "code",
      "metadata": {
        "id": "EDDd8fFsZyYu",
        "colab_type": "code",
        "colab": {
          "base_uri": "https://localhost:8080/",
          "height": 34
        },
        "outputId": "10c48825-0969-455c-a5d1-82e93708fb41"
      },
      "source": [
        "f"
      ],
      "execution_count": 6,
      "outputs": [
        {
          "output_type": "execute_result",
          "data": {
            "text/plain": [
              "<function __main__.<lambda>>"
            ]
          },
          "metadata": {
            "tags": []
          },
          "execution_count": 6
        }
      ]
    },
    {
      "cell_type": "code",
      "metadata": {
        "nbpresent": {
          "id": "12154f73-b113-47f0-a659-899c3c2e9cda"
        },
        "id": "m-nw5YnGZyY1",
        "colab_type": "code",
        "colab": {
          "base_uri": "https://localhost:8080/",
          "height": 34
        },
        "outputId": "d2e83210-7480-4a83-ab29-979db6f9346c"
      },
      "source": [
        "type(f)"
      ],
      "execution_count": 7,
      "outputs": [
        {
          "output_type": "execute_result",
          "data": {
            "text/plain": [
              "function"
            ]
          },
          "metadata": {
            "tags": []
          },
          "execution_count": 7
        }
      ]
    },
    {
      "cell_type": "markdown",
      "metadata": {
        "id": "WU6nVE9NZyZC",
        "colab_type": "text"
      },
      "source": [
        "## Calling a lambda expression in the usual way"
      ]
    },
    {
      "cell_type": "code",
      "metadata": {
        "nbpresent": {
          "id": "eb41b143-7ceb-475d-83e3-941bd5866cb4"
        },
        "id": "p53bPg_NZyZE",
        "colab_type": "code",
        "colab": {
          "base_uri": "https://localhost:8080/",
          "height": 34
        },
        "outputId": "7b836dec-a966-4039-c1a3-86d2d80fe387"
      },
      "source": [
        "f(3)"
      ],
      "execution_count": 8,
      "outputs": [
        {
          "output_type": "execute_result",
          "data": {
            "text/plain": [
              "9"
            ]
          },
          "metadata": {
            "tags": []
          },
          "execution_count": 8
        }
      ]
    },
    {
      "cell_type": "markdown",
      "metadata": {
        "id": "AtV5cwNFZyZP",
        "colab_type": "text"
      },
      "source": [
        "<font color=\"red\"><h1>Exercise 1</h1></font>\n",
        "\n",
        "Write a function using a `lambda` expression that computes the area of a circle with radius `r`.\n"
      ]
    },
    {
      "cell_type": "code",
      "metadata": {
        "id": "TfZMfTqdembw",
        "colab_type": "code",
        "colab": {}
      },
      "source": [
        "from math import pi"
      ],
      "execution_count": 31,
      "outputs": []
    },
    {
      "cell_type": "code",
      "metadata": {
        "id": "3ASZCL_SZyZR",
        "colab_type": "code",
        "colab": {
          "base_uri": "https://localhost:8080/",
          "height": 34
        },
        "outputId": "4db691c4-f7d2-4f7b-8b45-52f0dbaa60d9"
      },
      "source": [
        "h = lambda x: x**2 * pi \n",
        "h(1)"
      ],
      "execution_count": 33,
      "outputs": [
        {
          "output_type": "execute_result",
          "data": {
            "text/plain": [
              "3.141592653589793"
            ]
          },
          "metadata": {
            "tags": []
          },
          "execution_count": 33
        }
      ]
    },
    {
      "cell_type": "markdown",
      "metadata": {
        "id": "dL8KPGInZyZh",
        "colab_type": "text"
      },
      "source": [
        "## Lambdas with many arguments"
      ]
    },
    {
      "cell_type": "code",
      "metadata": {
        "nbpresent": {
          "id": "2f7d8217-77e6-4c57-802a-ac417af24d61"
        },
        "id": "TJ5Tzf7nZyZj",
        "colab_type": "code",
        "colab": {},
        "outputId": "555e32ed-659e-493c-ad7f-9261e8e400a1"
      },
      "source": [
        "g = lambda x, y : x**y\n",
        "g(2,4)"
      ],
      "execution_count": null,
      "outputs": [
        {
          "output_type": "execute_result",
          "data": {
            "text/plain": [
              "16"
            ]
          },
          "metadata": {
            "tags": []
          },
          "execution_count": 9
        }
      ]
    },
    {
      "cell_type": "markdown",
      "metadata": {
        "id": "hy2LmBfEZyZs",
        "colab_type": "text"
      },
      "source": [
        "## Evaluating a 2 argument `lambda`\n",
        "\n",
        "<img src=\"https://github.com/Amills226/module1_lectures/blob/master/img/lambda_eval_2arg_1.png?raw=1\" width=600/>"
      ]
    },
    {
      "cell_type": "markdown",
      "metadata": {
        "id": "-45hklixZyZt",
        "colab_type": "text"
      },
      "source": [
        "## Evaluating a 2 argument `lambda`\n",
        "\n",
        "<img src=\"https://github.com/Amills226/module1_lectures/blob/master/img/lambda_eval_2arg_2.png?raw=1\" width=600/>"
      ]
    },
    {
      "cell_type": "markdown",
      "metadata": {
        "id": "cmIfIyAzZyZu",
        "colab_type": "text"
      },
      "source": [
        "## Evaluating a 2 argument `lambda`\n",
        "\n",
        "<img src=\"https://github.com/Amills226/module1_lectures/blob/master/img/lambda_eval_2arg_3.png?raw=1\" width=600/>"
      ]
    },
    {
      "cell_type": "markdown",
      "metadata": {
        "id": "eQ15OcS6ZyZv",
        "colab_type": "text"
      },
      "source": [
        ""
      ]
    },
    {
      "cell_type": "markdown",
      "metadata": {
        "id": "Vt0zlW4wZyZw",
        "colab_type": "text"
      },
      "source": [
        "<font color=\"red\"><h1>Exercise 2</h1></font>\n",
        "\n",
        "Use a similar process to evaluate `h(1,2,3)` when\n",
        "\n",
        "```\n",
        "h = lambda x, y, z: 2*x*y+ y**2/z\n",
        "```"
      ]
    },
    {
      "cell_type": "markdown",
      "metadata": {
        "id": "bkvRFdRygU0n",
        "colab_type": "text"
      },
      "source": [
        "2*x*y + y**2/3 -> 2*x*2 + 2**2/3 -> 2*1*2 + 2**2/3 -> 4+4/3 -> "
      ]
    },
    {
      "cell_type": "code",
      "metadata": {
        "id": "WoV-yXz0ZyZx",
        "colab_type": "code",
        "colab": {
          "base_uri": "https://localhost:8080/",
          "height": 34
        },
        "outputId": "6af60615-a0cd-4e29-c52e-b218184ca945"
      },
      "source": [
        "lambda x, y, z: 2*x*y+ y**2/z\n",
        "(1, 2, 3)"
      ],
      "execution_count": 54,
      "outputs": [
        {
          "output_type": "execute_result",
          "data": {
            "text/plain": [
              "(1, 2, 3)"
            ]
          },
          "metadata": {
            "tags": []
          },
          "execution_count": 54
        }
      ]
    },
    {
      "cell_type": "code",
      "metadata": {
        "id": "3j644BYyfUFt",
        "colab_type": "code",
        "colab": {
          "base_uri": "https://localhost:8080/",
          "height": 34
        },
        "outputId": "a005654e-3f4e-46cc-aef3-e61651a97849"
      },
      "source": [
        "lambda x, y: 2*x*y + Y**2/3\n",
        "(1, 2)"
      ],
      "execution_count": 56,
      "outputs": [
        {
          "output_type": "execute_result",
          "data": {
            "text/plain": [
              "(1, 2)"
            ]
          },
          "metadata": {
            "tags": []
          },
          "execution_count": 56
        }
      ]
    },
    {
      "cell_type": "code",
      "metadata": {
        "id": "qbGQkS6BfUUS",
        "colab_type": "code",
        "colab": {
          "base_uri": "https://localhost:8080/",
          "height": 34
        },
        "outputId": "ea5a973b-7ea3-4c54-cb4b-5f5baf5566c4"
      },
      "source": [
        "lambda x: 2*x*2 + 2**2/3\n",
        "(1)"
      ],
      "execution_count": 57,
      "outputs": [
        {
          "output_type": "execute_result",
          "data": {
            "text/plain": [
              "1"
            ]
          },
          "metadata": {
            "tags": []
          },
          "execution_count": 57
        }
      ]
    },
    {
      "cell_type": "code",
      "metadata": {
        "id": "DEIxa2V0fUkz",
        "colab_type": "code",
        "colab": {
          "base_uri": "https://localhost:8080/",
          "height": 34
        },
        "outputId": "a9e1fc2d-0568-4bca-98be-fa85dcf1f6cb"
      },
      "source": [
        "lambda : 2*1*2 + 2**2/3"
      ],
      "execution_count": 60,
      "outputs": [
        {
          "output_type": "execute_result",
          "data": {
            "text/plain": [
              "<function __main__.<lambda>>"
            ]
          },
          "metadata": {
            "tags": []
          },
          "execution_count": 60
        }
      ]
    },
    {
      "cell_type": "code",
      "metadata": {
        "id": "j0rlZFyvZyZ3",
        "colab_type": "code",
        "colab": {
          "base_uri": "https://localhost:8080/",
          "height": 34
        },
        "outputId": "d4601e70-868b-4443-a4dc-ec4c76d66cd1"
      },
      "source": [
        "2*1*2 + 2**2/3"
      ],
      "execution_count": 17,
      "outputs": [
        {
          "output_type": "execute_result",
          "data": {
            "text/plain": [
              "5.333333333333333"
            ]
          },
          "metadata": {
            "tags": []
          },
          "execution_count": 17
        }
      ]
    },
    {
      "cell_type": "markdown",
      "metadata": {
        "id": "ZwCf4m_qZyZ9",
        "colab_type": "text"
      },
      "source": [
        "<font color=\"red\"><h1>Exercise 3</h1></font>\n",
        "\n",
        "The function `random` from the `random` module can be used to generate numbers between 0 and 1 at random. We want to return numbers between $a$ and $b$ at random, which can be accomplished using the formula $V = (b - a)*random() + a$.\n",
        "\n",
        "Write a lambda function that takes `a` and `b` as arguments are returns a number between `a` and `b` at random."
      ]
    },
    {
      "cell_type": "code",
      "metadata": {
        "id": "HFLWrc6OdyPf",
        "colab_type": "code",
        "colab": {}
      },
      "source": [
        "import random"
      ],
      "execution_count": 22,
      "outputs": []
    },
    {
      "cell_type": "code",
      "metadata": {
        "id": "2oaTrSZaZyZ-",
        "colab_type": "code",
        "colab": {
          "base_uri": "https://localhost:8080/",
          "height": 34
        },
        "outputId": "5eaeae56-43f3-4e73-ff1c-da63add990a4"
      },
      "source": [
        "v = lambda a, b: (b-a) * random.random() + a\n",
        "v(3, 1) "
      ],
      "execution_count": 50,
      "outputs": [
        {
          "output_type": "execute_result",
          "data": {
            "text/plain": [
              "1.7077543942042797"
            ]
          },
          "metadata": {
            "tags": []
          },
          "execution_count": 50
        }
      ]
    },
    {
      "cell_type": "code",
      "metadata": {
        "id": "EKHJfDOdgGCk",
        "colab_type": "code",
        "colab": {
          "base_uri": "https://localhost:8080/",
          "height": 1000
        },
        "outputId": "afe2116a-23fd-4d85-b02a-04029a48293d"
      },
      "source": [
        "[v(3,5) for i in range(100)]"
      ],
      "execution_count": 62,
      "outputs": [
        {
          "output_type": "execute_result",
          "data": {
            "text/plain": [
              "[4.801475470311457,\n",
              " 3.2853766921313534,\n",
              " 4.820789591544305,\n",
              " 4.730906753256945,\n",
              " 3.3166201349404956,\n",
              " 3.1426851058027143,\n",
              " 4.433004142007197,\n",
              " 3.129488931801222,\n",
              " 3.4375316904062556,\n",
              " 4.062738973643496,\n",
              " 4.4364607264922356,\n",
              " 4.537029329397697,\n",
              " 3.371586251525166,\n",
              " 4.815104851895413,\n",
              " 4.174816573186417,\n",
              " 4.566882734378172,\n",
              " 4.40285887620243,\n",
              " 3.199259004262646,\n",
              " 3.959264153812485,\n",
              " 4.579131900188975,\n",
              " 4.476360976262717,\n",
              " 4.075735847761141,\n",
              " 3.106549672146553,\n",
              " 3.657553921437768,\n",
              " 4.603825017007299,\n",
              " 3.7254792616998618,\n",
              " 3.650945454011613,\n",
              " 4.163091865276633,\n",
              " 3.46850888500244,\n",
              " 3.591189849180304,\n",
              " 4.312140127039049,\n",
              " 3.9418164456202236,\n",
              " 3.835394646206247,\n",
              " 4.68836181558184,\n",
              " 4.747480568195047,\n",
              " 3.9167898006849926,\n",
              " 3.871564574335757,\n",
              " 3.6201564418939203,\n",
              " 3.6384407011920783,\n",
              " 4.919263822726693,\n",
              " 3.634301587429614,\n",
              " 4.893335503945824,\n",
              " 3.3776348106937437,\n",
              " 4.923357010683536,\n",
              " 4.1494893903590615,\n",
              " 3.919851509753994,\n",
              " 4.200389055966179,\n",
              " 3.354428020979986,\n",
              " 4.974239827182728,\n",
              " 4.98310071114301,\n",
              " 4.46489204373558,\n",
              " 4.409358589484666,\n",
              " 3.4200783905167524,\n",
              " 4.819789004387166,\n",
              " 4.7351379600514125,\n",
              " 3.8563069494788014,\n",
              " 4.805762347816408,\n",
              " 4.093707465947501,\n",
              " 3.6120125475939817,\n",
              " 4.812836264945714,\n",
              " 3.6010439246526307,\n",
              " 3.5331978926170384,\n",
              " 3.684331696400386,\n",
              " 4.918436133055697,\n",
              " 4.343130351229562,\n",
              " 4.875384127845174,\n",
              " 3.9934826149578386,\n",
              " 3.4527453326966975,\n",
              " 4.6651546302773195,\n",
              " 4.7723099977082875,\n",
              " 3.815790630968392,\n",
              " 4.540941698105299,\n",
              " 4.516095849976941,\n",
              " 4.190193239039108,\n",
              " 3.807908067156566,\n",
              " 3.4255834789268205,\n",
              " 3.2971616511621518,\n",
              " 3.77929956162538,\n",
              " 3.4866552403671873,\n",
              " 4.428394289114874,\n",
              " 3.4812140065619976,\n",
              " 4.0106513843935945,\n",
              " 4.402339671493424,\n",
              " 4.786166649239903,\n",
              " 3.5117152488641,\n",
              " 4.5089773023342685,\n",
              " 4.85232762800309,\n",
              " 3.76580487847116,\n",
              " 4.78516759189865,\n",
              " 4.622586467564255,\n",
              " 3.105755029400078,\n",
              " 3.099406576132774,\n",
              " 3.5159609448218356,\n",
              " 4.218180184345966,\n",
              " 3.74426903381312,\n",
              " 4.837731576455197,\n",
              " 3.3806880807085284,\n",
              " 4.895412715194951,\n",
              " 3.9061792366747565,\n",
              " 3.6295987951384077]"
            ]
          },
          "metadata": {
            "tags": []
          },
          "execution_count": 62
        }
      ]
    }
  ]
}